{
 "cells": [
  {
   "cell_type": "code",
   "execution_count": 6,
   "metadata": {},
   "outputs": [],
   "source": [
    "import numpy as np\n",
    "import matplotlib.pyplot as plt"
   ]
  },
  {
   "cell_type": "markdown",
   "metadata": {},
   "source": [
    "### Ερώτημα 2\n",
    "---"
   ]
  },
  {
   "cell_type": "markdown",
   "metadata": {},
   "source": [
    "Δίνεται το ακόλουθο σύνολο δεδομένων το οποίο καλείστε να χρησιμοποιήσετε για να μάθετε (εκτιμήσετε) την πραγματική απεικόνιση μεταξύ δεδομένων εισόδου και στόχου.\n",
    "\n",
    "Θεωρήστε τον χώρο υποθέσεων που αποτελείται από τις ακόλουθες πραγματικές συναρτήσεις $f_1:\\mathbb{R}\\to\\mathbb{R}$ με δύο παραμέτρους $w=[w_0, w_1]^\\intercal\\in\\mathbb{R}^2$ :\n",
    "\n",
    "$$\n",
    "\tf_1(x;w) = \\frac{1}{1+e^{-(w_0+w_1x)}}\n",
    "$$\n",
    "\n",
    "Επιπλέον, τη συνάρτηση κόστους $L_1:\\mathbb{R}^2\\to\\R$ η οποία δίνεται ως :\n",
    "\n",
    "$$\n",
    "\tL_1(w) = -\\frac{1}{n} \\sum_{i=1}^n \\Big( y_i \\log_2 f_1(x_i;w) + (1-y_i) \\log_2\\big( 1 - f_1(x_i;w) \\big)\t\\Big)\n",
    "$$\n",
    "όπου με $\\{ (x_i,y_i ) \\}_{i=1}^n$ συμβολίζονται τα δεδομένα εκπαίδευσης."
   ]
  },
  {
   "cell_type": "code",
   "execution_count": 7,
   "metadata": {},
   "outputs": [
    {
     "data": {
      "text/plain": [
       "array([[ 10.63415642, -10.31804897,  -3.91323692,  13.47455445,\n",
       "         12.00245098,   7.01459213, -11.5083141 ,   7.83875   ,\n",
       "        -11.21021617,   6.95282804,   7.79101979,  13.94835343,\n",
       "          3.01243432,  11.67679791,  13.41197807,  14.61995534,\n",
       "         -8.70743264, -14.10312612, -11.68244994,  14.75202699,\n",
       "          9.25316629,  -4.82661632,  -6.99915042,   6.49562369,\n",
       "        -11.46126563,  -9.38897405,  -3.68953244,  -5.95603391,\n",
       "        -10.80285714, -11.78004227],\n",
       "       [  1.        ,   0.        ,   0.        ,   1.        ,\n",
       "          1.        ,   1.        ,   0.        ,   1.        ,\n",
       "          0.        ,   1.        ,   1.        ,   1.        ,\n",
       "          1.        ,   1.        ,   1.        ,   1.        ,\n",
       "          0.        ,   0.        ,   0.        ,   1.        ,\n",
       "          1.        ,   0.        ,   0.        ,   1.        ,\n",
       "          0.        ,   0.        ,   0.        ,   0.        ,\n",
       "          0.        ,   0.        ]])"
      ]
     },
     "execution_count": 7,
     "metadata": {},
     "output_type": "execute_result"
    }
   ],
   "source": [
    "data1 = np.array([[ 10.63415642, -10.31804897,  -3.91323692,  13.47455445,\n",
    "         12.00245098,   7.01459213, -11.5083141 ,   7.83875   ,\n",
    "        -11.21021617,   6.95282804,   7.79101979,  13.94835343,\n",
    "          3.01243432,  11.67679791,  13.41197807,  14.61995534,\n",
    "         -8.70743264, -14.10312612, -11.68244994,  14.75202699,\n",
    "          9.25316629,  -4.82661632,  -6.99915042,   6.49562369,\n",
    "        -11.46126563,  -9.38897405,  -3.68953244,  -5.95603391,\n",
    "        -10.80285714, -11.78004227],\n",
    "       [  1.        ,   0.        ,   0.        ,   1.        ,\n",
    "          1.        ,   1.        ,   0.        ,   1.        ,\n",
    "          0.        ,   1.        ,   1.        ,   1.        ,\n",
    "          1.        ,   1.        ,   1.        ,   1.        ,\n",
    "          0.        ,   0.        ,   0.        ,   1.        ,\n",
    "          1.        ,   0.        ,   0.        ,   1.        ,\n",
    "          0.        ,   0.        ,   0.        ,   0.        ,\n",
    "          0.        ,   0.        ]])\n",
    "data1"
   ]
  },
  {
   "cell_type": "code",
   "execution_count": 8,
   "metadata": {},
   "outputs": [
    {
     "data": {
      "image/png": "[encoded data removed]",
      "text/plain": [
       "<Figure size 640x480 with 1 Axes>"
      ]
     },
     "metadata": {},
     "output_type": "display_data"
    }
   ],
   "source": [
    "data1_input = data1[0]\n",
    "data1_output = data1[1]\n",
    "\n",
    "plt.scatter(data1_input, data1_output)\n",
    "plt.xlabel(\"input\")\n",
    "plt.ylabel(\"output\")\n",
    "plt.show()"
   ]
  },
  {
   "cell_type": "markdown",
   "metadata": {},
   "source": [
    "---"
   ]
  },
  {
   "cell_type": "markdown",
   "metadata": {},
   "source": [
    "Δίνεται το ακόλουθο σύνολο δεδομένων το οποίο καλείστε να χρησιμοποιήσετε για να μάθετε (εκτιμήσετε) την πραγματική απεικόνιση μεταξύ δεδομένων εισόδου και στόχου.\n",
    "\n",
    "Θεωρήστε τον χώρο υποθέσεων που αποτελείται από τις ακόλουθες πραγματικές συναρτήσεις $f_2:\\mathbb{R}\\to\\mathbb{R}$ με τέσσερις παραμέτρους $w=[w_0, w_1, w_2, w_3]^\\intercal\\in\\mathbb{R}^4$ :\n",
    "\n",
    "$$\n",
    "\tf_2(x;w) = w_0 + w_1 \\sigma(w_2+w_3x)\n",
    "$$\n",
    "όπου η $\\sigma:\\mathbb{R}\\to\\mathbb{R}$ δίνεται ως\n",
    "$$\n",
    "\t\\sigma(x)=\\begin{cases} x, & x>0 \\\\ 0, & x\\le 0 \\end{cases}\n",
    "$$\n",
    "\n",
    "\n",
    "Επιπλέον, τη συνάρτηση κόστους $L_2:\\mathbb{R}^4\\to\\R$ η οποία δίνεται ως :\n",
    "\n",
    "$$\n",
    "\tL_2(w) = \\frac{1}{n} \\sum_{i=1}^n \\big( y_i - f_1(x_i;w) \\big)^2\n",
    "$$\n",
    "\n",
    "**Σημείωση:** Παρατηρήστε ότι η $\\sigma$ δεν είναι παραγωγίσιμη στο $\\mathbf{x}=0$, καθώς τα πλευρικά όρια δε συμπίπτουν. Ωστόσο, θεωρούμε ότι η παράγωγος της δίνεται ως\n",
    "\n",
    "$$\n",
    "\t\\frac{d\\sigma(\\mathbf{x})}{dx} = \\begin{cases} 1, & x>0 \\\\ 0, & x\\le 0 \\end{cases}\n",
    "$$"
   ]
  },
  {
   "cell_type": "code",
   "execution_count": 9,
   "metadata": {},
   "outputs": [
    {
     "data": {
      "text/plain": [
       "array([[-6.63823962e-01,  1.76259595e+00, -3.99908500e+00,\n",
       "        -1.58133942e+00, -2.82595287e+00, -3.26129124e+00,\n",
       "        -2.50991831e+00, -1.23551418e+00, -8.25860206e-01,\n",
       "         3.10533872e-01, -6.46443885e-01,  1.48175600e+00,\n",
       "        -2.36438200e+00,  3.02493949e+00, -3.78089925e+00,\n",
       "         1.36374008e+00, -6.61561581e-01,  4.69518628e-01,\n",
       "        -2.87690449e+00, -2.41518809e+00,  2.40595655e+00,\n",
       "         3.74609261e+00, -1.49260657e+00,  1.53858093e+00,\n",
       "         3.01111322e+00,  3.15685331e+00, -3.31964631e+00,\n",
       "        -3.68756173e+00, -2.64135664e+00,  3.02514003e+00],\n",
       "       [-7.76859909e-02,  6.84885863e+00,  2.11068734e-02,\n",
       "         2.91407607e-01, -5.50309589e-01,  5.72361855e-01,\n",
       "         4.50795360e-01,  2.51247169e-01,  4.50427975e-01,\n",
       "         2.58973769e+00, -7.76767080e-04,  5.97738329e+00,\n",
       "        -1.33944040e-01,  1.13399962e+01, -3.45830376e-01,\n",
       "         5.89284348e+00, -3.28271093e-01,  2.98595306e+00,\n",
       "        -3.35623065e-01, -6.33229946e-03,  8.65921447e+00,\n",
       "         1.33554857e+01,  8.29901089e-01,  6.98676486e+00,\n",
       "         1.09374219e+01,  1.10267454e+01, -3.73579147e-01,\n",
       "         8.46227301e-01,  2.54038774e-02,  1.07569223e+01]])"
      ]
     },
     "execution_count": 9,
     "metadata": {},
     "output_type": "execute_result"
    }
   ],
   "source": [
    "data2 = np.array([[-6.63823962e-01,  1.76259595e+00, -3.99908500e+00,\n",
    "        -1.58133942e+00, -2.82595287e+00, -3.26129124e+00,\n",
    "        -2.50991831e+00, -1.23551418e+00, -8.25860206e-01,\n",
    "         3.10533872e-01, -6.46443885e-01,  1.48175600e+00,\n",
    "        -2.36438200e+00,  3.02493949e+00, -3.78089925e+00,\n",
    "         1.36374008e+00, -6.61561581e-01,  4.69518628e-01,\n",
    "        -2.87690449e+00, -2.41518809e+00,  2.40595655e+00,\n",
    "         3.74609261e+00, -1.49260657e+00,  1.53858093e+00,\n",
    "         3.01111322e+00,  3.15685331e+00, -3.31964631e+00,\n",
    "        -3.68756173e+00, -2.64135664e+00,  3.02514003e+00],\n",
    "       [-7.76859909e-02,  6.84885863e+00,  2.11068734e-02,\n",
    "         2.91407607e-01, -5.50309589e-01,  5.72361855e-01,\n",
    "         4.50795360e-01,  2.51247169e-01,  4.50427975e-01,\n",
    "         2.58973769e+00, -7.76767080e-04,  5.97738329e+00,\n",
    "        -1.33944040e-01,  1.13399962e+01, -3.45830376e-01,\n",
    "         5.89284348e+00, -3.28271093e-01,  2.98595306e+00,\n",
    "        -3.35623065e-01, -6.33229946e-03,  8.65921447e+00,\n",
    "         1.33554857e+01,  8.29901089e-01,  6.98676486e+00,\n",
    "         1.09374219e+01,  1.10267454e+01, -3.73579147e-01,\n",
    "         8.46227301e-01,  2.54038774e-02,  1.07569223e+01]])\n",
    "data2"
   ]
  },
  {
   "cell_type": "code",
   "execution_count": 10,
   "metadata": {},
   "outputs": [
    {
     "data": {
      "image/png": "[encoded data removed]",
      "text/plain": [
       "<Figure size 640x480 with 1 Axes>"
      ]
     },
     "metadata": {},
     "output_type": "display_data"
    }
   ],
   "source": [
    "data2_input = data2[0]\n",
    "data2_output = data2[1]\n",
    "\n",
    "plt.scatter(data2_input, data2_output)\n",
    "plt.xlabel(\"input\")\n",
    "plt.ylabel(\"output\")\n",
    "plt.show()"
   ]
  }
 ],
 "metadata": {
  "kernelspec": {
   "display_name": "ml-labs",
   "language": "python",
   "name": "python3"
  },
  "language_info": {
   "codemirror_mode": {
    "name": "ipython",
    "version": 3
   },
   "file_extension": ".py",
   "mimetype": "text/x-python",
   "name": "python",
   "nbconvert_exporter": "python",
   "pygments_lexer": "ipython3",
   "version": "3.12.2"
  }
 },
 "nbformat": 4,
 "nbformat_minor": 2
}
